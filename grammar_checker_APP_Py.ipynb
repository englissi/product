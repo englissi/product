{
  "nbformat": 4,
  "nbformat_minor": 0,
  "metadata": {
    "colab": {
      "provenance": [],
      "authorship_tag": "ABX9TyM6hjIfmduPLitV7Dai8lr+",
      "include_colab_link": true
    },
    "kernelspec": {
      "name": "python3",
      "display_name": "Python 3"
    },
    "language_info": {
      "name": "python"
    }
  },
  "cells": [
    {
      "cell_type": "markdown",
      "metadata": {
        "id": "view-in-github",
        "colab_type": "text"
      },
      "source": [
        "<a href=\"https://colab.research.google.com/github/englissi/product/blob/main/grammar_checker_APP_Py.ipynb\" target=\"_parent\"><img src=\"https://colab.research.google.com/assets/colab-badge.svg\" alt=\"Open In Colab\"/></a>"
      ]
    },
    {
      "cell_type": "code",
      "execution_count": null,
      "metadata": {
        "id": "G-2rNVBZEdtS"
      },
      "outputs": [],
      "source": [
        "import os\n",
        "from transformers import T5Tokenizer, T5ForConditionalGeneration\n",
        "import gradio as gr\n",
        "from nltk.tokenize import sent_tokenize\n",
        "from difflib import SequenceMatcher\n",
        "\n",
        "# Ensure the necessary NLTK data is downloaded\n",
        "os.system('python download.py')\n",
        "\n",
        "# Load a pre-trained T5 model specifically fine-tuned for grammar correction\n",
        "tokenizer = T5Tokenizer.from_pretrained(\"prithivida/grammar_error_correcter_v1\")\n",
        "model = T5ForConditionalGeneration.from_pretrained(\"prithivida/grammar_error_correcter_v1\")\n",
        "\n",
        "# Function to perform grammar correction\n",
        "def grammar_check(text):\n",
        "    sentences = sent_tokenize(text)\n",
        "    corrected_sentences = []\n",
        "\n",
        "    for sentence in sentences:\n",
        "        input_text = f\"gec: {sentence}\"\n",
        "        input_ids = tokenizer.encode(input_text, return_tensors=\"pt\", max_length=512, truncation=True)\n",
        "        outputs = model.generate(input_ids, max_length=512, num_beams=4, early_stopping=True)\n",
        "        corrected_sentence = tokenizer.decode(outputs[0], skip_special_tokens=True)\n",
        "        corrected_sentences.append(corrected_sentence)\n",
        "\n",
        "    # Function to underline and color revised parts\n",
        "    def underline_and_color_revisions(original, corrected):\n",
        "        diff = SequenceMatcher(None, original.split(), corrected.split())\n",
        "        result = []\n",
        "        for tag, i1, i2, j1, j2 in diff.get_opcodes():\n",
        "            if tag == 'insert':\n",
        "                result.append(f\"<u style='color:red;'>{' '.join(corrected.split()[j1:j2])}</u>\")\n",
        "            elif tag == 'replace':\n",
        "                result.append(f\"<u style='color:red;'>{' '.join(corrected.split()[j1:j2])}</u>\")\n",
        "            elif tag == 'equal':\n",
        "                result.append(' '.join(original.split()[i1:i2]))\n",
        "        return \" \".join(result)\n",
        "\n",
        "    corrected_text = \" \".join(\n",
        "        underline_and_color_revisions(orig, corr) for orig, corr in zip(sentences, corrected_sentences)\n",
        "    )\n",
        "\n",
        "    return corrected_text\n",
        "\n",
        "# Create Gradio interface with a writing prompt\n",
        "interface = gr.Interface(\n",
        "    fn=grammar_check,\n",
        "    inputs=\"text\",\n",
        "    outputs=\"html\",  # Output type is HTML\n",
        "    title=\"Grammar Checker\",\n",
        "    description=(\n",
        "        \"Enter text to check for grammar mistakes.\\n\\n\"\n",
        "        \"Writing Prompt:\\n\"\n",
        "        \"In the story, Alex and his friends discovered an ancient treasure in Whispering Hollow and decided to donate the artifacts to the local museum.\\n\\n\"\n",
        "        \"In the past, did you have a similar experience where you found something valuable or interesting? Tell the story. Describe what you found, what you did with it, and how you felt about your decision.\\n\\n\"\n",
        "        \"Remember to use past tense in your writing.\\n\\n\"\n",
        "        \"<b>A student's sample answer:</b>\\n\"\n",
        "        \"<blockquote>When I was 10, I find an old coin in my backyard. I kept it for a while and shows it to my friends. They was impressed and say it might be valuable. Later, I take it to a local antique shop, and the owner told me it was very old. I decided to give it to the museum in my town. The museum was happy and put it on display. I feel proud of my decision.<br><br><i>Copy and paste to try.</i></blockquote>\"\n",
        "    )\n",
        ")\n",
        "\n",
        "# Launch the interface\n",
        "interface.launch()"
      ]
    }
  ]
}