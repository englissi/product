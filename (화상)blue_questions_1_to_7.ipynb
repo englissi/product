{
  "nbformat": 4,
  "nbformat_minor": 0,
  "metadata": {
    "colab": {
      "provenance": [],
      "authorship_tag": "ABX9TyOrs1m1597buUw7ABSTSYCl",
      "include_colab_link": true
    },
    "kernelspec": {
      "name": "python3",
      "display_name": "Python 3"
    },
    "language_info": {
      "name": "python"
    }
  },
  "cells": [
    {
      "cell_type": "markdown",
      "metadata": {
        "id": "view-in-github",
        "colab_type": "text"
      },
      "source": [
        "<a href=\"https://colab.research.google.com/github/englissi/product/blob/main/(%ED%99%94%EC%83%81)blue_questions_1_to_7.ipynb\" target=\"_parent\"><img src=\"https://colab.research.google.com/assets/colab-badge.svg\" alt=\"Open In Colab\"/></a>"
      ]
    },
    {
      "cell_type": "markdown",
      "source": [
        "1"
      ],
      "metadata": {
        "id": "59IQWRlRGzbt"
      }
    },
    {
      "cell_type": "code",
      "source": [
        "questions = [\n",
        "    {\"context\": \"Let's talk about the story, My Dad's birthday party. Today is your dad’s birthday. So you and your family will have a party tonight.\", \"question\": \"What will your mom do for the party?\", \"label\": \"Transcription of Mom's action\", \"answer\": \"She will cook the dinner.\"},\n",
        "    {\"context\": \"Look at the page 12 and 13.\", \"question\": \"What is she doing?\", \"label\": \"Transcription of Mom's action\", \"answer\": \"She is cooking.\"},\n",
        "    {\"context\": \"How about your brother?\", \"question\": \"What will he do for the party?\", \"label\": \"Transcription of Brother's action\", \"answer\": \"He will sing a birthday song.\"},\n",
        "    {\"context\": \"Look at the picture.\", \"question\": \"What is he doing?\", \"label\": \"Transcription of Brother's action\", \"answer\": \"He is singing.\"},\n",
        "    {\"context\": \"Okay, next,\", \"question\": \"How about you? What will you do for the party?\", \"label\": \"Transcription of Your action\", \"answer\": \"I will write a birthday card.\"},\n",
        "    {\"context\": \"Let's move on to the story 'Owls are special'. Owls are nocturnal.\", \"question\": \"When do they sleep?\", \"label\": \"Transcription of sleep time\", \"answer\": \"They sleep during the day.\"},\n",
        "    {\"context\": \"Look at the page 21, they have very special eyes.\", \"question\": \"So, what can they do with their special eyes?\", \"label\": \"Transcription of eye ability\", \"answer\": \"They can see well at night.\"},\n",
        "    {\"context\": \"Now, these questions are based on the story 'I will go shopping'. You have many things to buy. First, you need to buy a book. So, you will go to the bookstore. The bookstore is far away.\", \"question\": \"How will you go to the bookstore?\", \"label\": \"Transcription of transport method\", \"answer\": \"I will take the bus.\"},\n",
        "    {\"context\": \"Now you need to buy some bread.\", \"question\": \"Where will you go?\", \"label\": \"Transcription of place\", \"answer\": \"I will go to the bakery.\"},\n",
        "    {\"context\": \"Let's talk about the story 'Guide dogs'. Blind people can't see. But, they can still do things.\", \"question\": \"How can they do?\", \"label\": \"Transcription of how blind people do things\", \"answer\": \"They have guide dogs.\"},\n",
        "    {\"context\": \"Guide dogs help blind people with everything. For example, they bring things for them. They help them. They open doors for them.\", \"question\": \"What else can they do for them?\", \"label\": \"Transcription of other abilities\", \"answer\": \"They can turn the TV on and off.\"}\n",
        "]"
      ],
      "metadata": {
        "id": "oG4VGZzfGw1G"
      },
      "execution_count": null,
      "outputs": []
    },
    {
      "cell_type": "markdown",
      "source": [
        "2"
      ],
      "metadata": {
        "id": "eLzyt8QV-svv"
      }
    },
    {
      "cell_type": "code",
      "source": [
        "questions = [\n",
        "    {\"context\": \"Based on the story Dinosaurs. I like dinosaurs. Triceratops are my favorite. Triceratops have three horns and they walk on 4 legs.\", \"question\": \"What do triceratops eat when they get hungry?\", \"label\": \"Transcription of triceratops' diet\", \"answer\": \"When Triceratops get hungry, they eat plants.\"},\n",
        "    {\"context\": \"Tyrannosaurus are big. They grow up to 50 feet.\", \"question\": \"What do tyrannosaurus rex eat when they get hungry?\", \"label\": \"Transcription of tyrannosaurus' diet\", \"answer\": \"When they get hungry, they eat other dinosaurs.\"},\n",
        "    {\"context\": \"How about you?\", \"question\": \"Do you like dinosaurs?\", \"label\": \"Transcription of personal preference\", \"answer\": \"No, I don’t.\"},\n",
        "    {\"context\": \"Based on the story enjoy your dog more. I have a dog. It keeps taking baths. The keeper said I should not put it in the bathtub.\", \"question\": \"Can you give me some tips?\", \"label\": \"Transcription of tips for dog bath\", \"answer\": \"Put his favorite toys in the bathtub.\"},\n",
        "    {\"context\": \"My dog often fights with other dogs.\", \"question\": \"What should I do when he fights with other dogs? Should I spray them with water or not?\", \"label\": \"Transcription of action to stop dog fights\", \"answer\": \"I should spray them with water.\"},\n",
        "    {\"context\": \"How about you?\", \"question\": \"Do you have a dog? Do you want to have a dog?\", \"label\": \"Transcription of personal dog ownership\", \"answer\": \"I hope that someday you get a dog.\"},\n",
        "    {\"context\": \"Based on the story Zoo was so much fun. Look at the pictures.\", \"question\": \"Where are the gorillas?\", \"label\": \"Transcription of gorillas' location\", \"answer\": \"They are on the trees.\"},\n",
        "    {\"context\": \"Look at the tigers.\", \"question\": \"Where are they? And what are they doing? Are they sleeping in the sun or under the sun?\", \"label\": \"Transcription of tigers' location and activity\", \"answer\": \"They are sleeping under the sun.\"},\n",
        "    {\"context\": \"Look at the hippos.\", \"question\": \"Where are they and what are they doing?\", \"label\": \"Transcription of hippos' location and activity\", \"answer\": \"They are cooling off in the water.\"},\n",
        "    {\"context\": \"Great job.\", \"question\": \"Do you like to go to the zoo?\", \"label\": \"Transcription of zoo preference\", \"answer\": \"Yes\"},\n",
        "    {\"context\": \"Who do you go to the zoo with?\", \"question\": \"Do you go to the zoo with your family, classmates or friends?\", \"label\": \"Transcription of zoo companions\", \"answer\": \"I go to the zoo with my family.\"},\n",
        "    {\"context\": \"Which of these animals do you like the most? Do you like the gorillas? Tigers? Lions? Or the hippos?\", \"question\": \"Which animal do you like the most?\", \"label\": \"Transcription of favorite zoo animal\", \"answer\": \"I like lions.\"},\n",
        "    {\"context\": \"Based on the story Cats and dogs. Cats and dogs are different in many ways. For example, dogs play during the day.\", \"question\": \"How about cats? What do they do during the day?\", \"label\": \"Transcription of cats' daytime activity\", \"answer\": \"They are sleeping during the day.\"},\n",
        "    {\"context\": \"When do cats play?\", \"question\": \"Dogs wag their tails when they are happy. What about cats? When do cats move their tails?\", \"label\": \"Transcription of cats' tail movement\", \"answer\": \"Cats move their tails when they are angry.\"}\n",
        "]\n"
      ],
      "metadata": {
        "id": "NWTkpIc0-uf-"
      },
      "execution_count": null,
      "outputs": []
    },
    {
      "cell_type": "markdown",
      "source": [
        "3"
      ],
      "metadata": {
        "id": "W1vL6Alo-vcb"
      }
    },
    {
      "cell_type": "code",
      "source": [
        "questions = [\n",
        "    {\"context\": \"Let's talk about the story, My Dad's birthday party. Today is your dad’s birthday. So you and your family will have a party tonight.\", \"question\": \"What will your mom do for the party?\", \"label\": \"Transcription of Mom's action\", \"answer\": \"She will cook the dinner.\"},\n",
        "    {\"context\": \"Look at the page 12 and 13.\", \"question\": \"What is she doing?\", \"label\": \"Transcription of Mom's action\", \"answer\": \"She is cooking.\"},\n",
        "    {\"context\": \"How about your brother?\", \"question\": \"What will he do for the party?\", \"label\": \"Transcription of Brother's action\", \"answer\": \"He will sing a birthday song.\"},\n",
        "    {\"context\": \"Look at the picture.\", \"question\": \"What is he doing?\", \"label\": \"Transcription of Brother's action\", \"answer\": \"He is singing.\"},\n",
        "    {\"context\": \"Okay, next,\", \"question\": \"How about you? What will you do for the party?\", \"label\": \"Transcription of Your action\", \"answer\": \"I will write a birthday card.\"},\n",
        "    {\"context\": \"Let's move on to the story 'Owls are special'. Owls are nocturnal.\", \"question\": \"When do they sleep?\", \"label\": \"Transcription of sleep time\", \"answer\": \"They sleep during the day.\"},\n",
        "    {\"context\": \"Look at the page 21, they have very special eyes.\", \"question\": \"So, what can they do with their special eyes?\", \"label\": \"Transcription of eye ability\", \"answer\": \"They can see well at night.\"},\n",
        "    {\"context\": \"Now, these questions are based on the story 'I will go shopping'. You have many things to buy. First, you need to buy a book. So, you will go to the bookstore. The bookstore is far away.\", \"question\": \"How will you go to the bookstore?\", \"label\": \"Transcription of transport method\", \"answer\": \"I will take the bus.\"},\n",
        "    {\"context\": \"Now you need to buy some bread.\", \"question\": \"Where will you go?\", \"label\": \"Transcription of place\", \"answer\": \"I will go to the bakery.\"},\n",
        "    {\"context\": \"Let's talk about the story 'Guide dogs'. Blind people can't see. But, they can still do things.\", \"question\": \"How can they do?\", \"label\": \"Transcription of how blind people do things\", \"answer\": \"They have guide dogs.\"},\n",
        "    {\"context\": \"Guide dogs help blind people with everything. For example, they bring things for them. They help them. They open doors for them.\", \"question\": \"What else can they do for them?\", \"label\": \"Transcription of other abilities\", \"answer\": \"They can turn the TV on and off.\"}\n",
        "]"
      ],
      "metadata": {
        "id": "SLGN4V9t-wWe"
      },
      "execution_count": null,
      "outputs": []
    },
    {
      "cell_type": "markdown",
      "source": [
        "4"
      ],
      "metadata": {
        "id": "QMqbbRpvFh6y"
      }
    },
    {
      "cell_type": "code",
      "source": [
        "questions = [\n",
        "    {\"context\": \"These are based on the story Who Spilled Milk on My Drawings. Look at this girl.\", \"question\": \"How does she look? Does she look happy or surprised?\", \"label\": \"Transcription of girl's emotion\", \"answer\": \"She is surprised because something happened on her drawing.\"},\n",
        "    {\"context\": \"What happened on her drawing?\", \"question\": \"What happened on her drawing?\", \"label\": \"Transcription of drawing incident\", \"answer\": \"Someone spilled milk on her drawing.\"},\n",
        "    {\"context\": \"Let's find the suspect. And there are three clues. First clue: The suspect must like milk. Second clue: The suspect can jump high.\", \"question\": \"What is the third clue? What color of fur does this suspect have?\", \"label\": \"Transcription of suspect's characteristics\", \"answer\": \"The suspect has red fur.\"},\n",
        "    {\"context\": \"Who is it?\", \"question\": \"Who is it?\", \"label\": \"Identification of the suspect\", \"answer\": \"It's Mio.\"},\n",
        "    {\"context\": \"These are based on the story Moth and Butterfly. Moth and Butterfly are similar in many ways. So, people are usually confused about them. They are both insects. They both have colorful wings.\", \"question\": \"What else are they similar in?\", \"label\": \"Transcription of similarities\", \"answer\": \"They also have long tongues.\"},\n",
        "    {\"context\": \"Let's talk about their differences. They don’t have the same lengths of antennae. This is short, but this is long. They differ in the way they sit. And they don’t have the same body shape. Moth has a short and fat body.\", \"question\": \"What about the butterflies? What kind of body do they have?\", \"label\": \"Transcription of butterflies' body shape\", \"answer\": \"Butterflies have a long and thin body.\"},\n",
        "    {\"context\": \"These are based on the story Netiquette. How do you usually communicate with your friend? Do you meet your friends? Do you call them? Do you write letters to them?\", \"question\": \"How do you communicate with your friend?\", \"label\": \"Transcription of communication method\", \"answer\": \"I meet them.\"},\n",
        "    {\"context\": \"People nowadays usually use something to communicate. What do people use to communicate today? Do they use television? Internet?\", \"question\": \"What do people use to communicate today?\", \"label\": \"Transcription of modern communication tool\", \"answer\": \"People usually use the internet to communicate.\"},\n",
        "    {\"context\": \"The internet is a useful communication tool. But when you communicate on the internet, what is important?\", \"question\": \"What is important when you communicate on the internet?\", \"label\": \"Transcription of internet communication importance\", \"answer\": \"It's important to have good netiquette.\"},\n",
        "    {\"context\": \"Based on the story Training Dogs Versus Training Cats. Look at this girl. She has a dog.\", \"question\": \"What do dogs think of their owners? Do they think their owners as enemies or leaders?\", \"label\": \"Transcription of dogs' perception\", \"answer\": \"Dogs think their owner as a leader.\"},\n",
        "    {\"context\": \"Do you have a dog? If you have a dog, then you will be the leader of your dog. Now look at this cat.\", \"question\": \"What is the cat doing?\", \"label\": \"Transcription of cat's action\", \"answer\": \"The cat is playing alone.\"},\n",
        "    {\"context\": \"It is an independent animal. So, what does it mean? Do they live in groups? Or do they not live in groups?\", \"question\": \"What does it mean that cats are independent?\", \"label\": \"Transcription of cats' social behavior\", \"answer\": \"That means that they don’t live in groups.\"},\n",
        "    {\"context\": \"What about you? Are you an independent girl? Do you play alone? Who do you play with?\", \"question\": \"Who do you play with?\", \"label\": \"Transcription of personal social behavior\", \"answer\": \"I play with my friends.\"},\n",
        "    {\"context\": \"These are based on the story Earth and the Moon. Look at this picture. This is the Earth. And this is the moon. As you see, the earth is really big.\", \"question\": \"What about the moon?\", \"label\": \"Transcription of moon's size comparison\", \"answer\": \"The moon is much smaller than Earth.\"},\n",
        "    {\"context\": \"You see here, on Earth there are lots of living things. But there are no such things on the moon.\", \"question\": \"What are there on the moon?\", \"label\": \"Transcription of moon's surface\", \"answer\": \"There are only dust and rocks on the moon.\"}\n",
        "]\n"
      ],
      "metadata": {
        "id": "stsMO-TaFip2"
      },
      "execution_count": null,
      "outputs": []
    },
    {
      "cell_type": "markdown",
      "source": [
        "5"
      ],
      "metadata": {
        "id": "ipMa1vP6Fmzs"
      }
    },
    {
      "cell_type": "code",
      "source": [
        "questions = [\n",
        "    {\"context\": \"They are based on the story of ‘Special birds’. Not all the birds can fly. Like Ostriches, penguins, emus, and kiwi.\", \"question\": \"Why are they special in many ways?\", \"label\": \"Transcription of birds' uniqueness\", \"answer\": \"\"},\n",
        "    {\"context\": \"Let's talk about Ostriches. They are special because they are the largest birds.\", \"question\": \"What else are ostriches special about?\", \"label\": \"Transcription of ostriches' abilities\", \"answer\": \"Ostriches can run up to 50 km/hour.\"},\n",
        "    {\"context\": \"What does that mean?\", \"question\": \"What does that mean?\", \"label\": \"Transcription of ostriches' speed significance\", \"answer\": \"That means they are the fastest birds.\"},\n",
        "    {\"context\": \"Let's talk about penguins. They are not as fast as ostriches. They are not big like emus or fast like ostriches.\", \"question\": \"What can penguins do really well?\", \"label\": \"Transcription of penguins' abilities\", \"answer\": \"They can swim really well.\"},\n",
        "    {\"context\": \"You got it! What about you? Can you swim well?\", \"question\": \"Can you swim well?\", \"label\": \"Transcription of personal ability\", \"answer\": \"\"},\n",
        "    {\"context\": \"They are based on the story The Color of Ladybug. Now look. Ladybugs usually have red or orange body with black spots.\", \"question\": \"Why do ladybugs have such beautiful colors? Is it to look beautiful or to protect themselves?\", \"label\": \"Transcription of ladybugs' colors purpose\", \"answer\": \"This is to protect themselves.\"},\n",
        "    {\"context\": \"Yes, that’s right. Ladybugs taste really bitter. And they can also be poisonous.\", \"question\": \"If a predator eats a ladybug, what happens?\", \"label\": \"Transcription of predator's reaction\", \"answer\": \"It will get sick or die.\"},\n",
        "    {\"context\": \"This story is based on the story, What Makes Popcorn Pop? Now, do you like popcorn?\", \"question\": \"Do you like popcorn?\", \"label\": \"Transcription of personal preference\", \"answer\": \"Yes, I do.\"},\n",
        "    {\"context\": \"Now look, these are kernels of corn.\", \"question\": \"How are the kernels composed?\", \"label\": \"Transcription of kernels' composition\", \"answer\": \"They have a hard outer coating.\"},\n",
        "    {\"context\": \"And what is inside?\", \"question\": \"What is inside?\", \"label\": \"Transcription of kernels' inner content\", \"answer\": \"Water inside.\"},\n",
        "    {\"context\": \"When the kernel gets hot, what happens to the water inside?\", \"question\": \"What happens to the water inside when the kernel gets hot?\", \"label\": \"Transcription of heating process\", \"answer\": \"It turns into steam.\"},\n",
        "    {\"context\": \"They are based on the story Food Superstition. Now there are many superstitions related to food. For example, if salt falls on the floor, it is bad luck.\", \"question\": \"So to cancel the bad luck, what must I do?\", \"label\": \"Transcription of superstition remedy\", \"answer\": \"I must cover salt with sugar.\"},\n",
        "    {\"context\": \"For next is another superstition related to apple. They said if you see two apple seeds, you will have two kids.\", \"question\": \"What if I see three apple seeds? How many kids will I have?\", \"label\": \"Transcription of superstition interpretation\", \"answer\": \"I will have three kids.\"},\n",
        "    {\"context\": \"They are based on the story Michael Jordan. Who is Michael Jordan?\", \"question\": \"Who is Michael Jordan?\", \"label\": \"Transcription of Michael Jordan's identity\", \"answer\": \"Michael Jordan is a basketball superstar.\"},\n",
        "    {\"context\": \"Which team did he play for?\", \"question\": \"Which team did he play for?\", \"label\": \"Transcription of Michael Jordan's team\", \"answer\": \"He played for Chicago Bulls.\"}\n",
        "]\n"
      ],
      "metadata": {
        "id": "cHD9ZScgFnbD"
      },
      "execution_count": null,
      "outputs": []
    },
    {
      "cell_type": "markdown",
      "source": [
        "6"
      ],
      "metadata": {
        "id": "EnIlEivQGDfh"
      }
    },
    {
      "cell_type": "code",
      "source": [
        "questions = [\n",
        "    {\"context\": \"These are based on the story 'Everything goes wrong'. Look at the picture.\", \"question\": \"How is the weather?\", \"label\": \"Transcription of weather\", \"answer\": \"It’s raining.\"},\n",
        "    {\"context\": \"This is Jimmy. What happened to Jimmy? Why is he not happy?\", \"question\": \"Why is Jimmy not happy?\", \"label\": \"Transcription of Jimmy's situation\", \"answer\": \"Because he missed the bus.\"},\n",
        "    {\"context\": \"In PE, Jimmy and his classmates are playing basketball. Jimmy is good at basketball. He wants to show off his basketball skills in front of the girl he likes.\", \"question\": \"But why did he pass out?\", \"label\": \"Transcription of incident in PE\", \"answer\": \"The basketball hit Jimmy on his head.\"},\n",
        "    {\"context\": \"We have many emotions and we feel many feelings in many different situations. Look at her. She feels happy when she goes somewhere fun and when she gets something she wants.\", \"question\": \"What makes her really happy?\", \"label\": \"Transcription of happiness\", \"answer\": \"She feels happy when she reads books.\"},\n",
        "    {\"context\": \"Look at her. She feels really sad.\", \"question\": \"When does she feel really sad?\", \"label\": \"Transcription of sadness\", \"answer\": \"She feels sad when her dog dies.\"},\n",
        "    {\"context\": \"I live on a farm. When winter comes, we can see many footprints.\", \"question\": \"How does it look?\", \"label\": \"Transcription of footprint shape\", \"answer\": \"It looks like a triangle.\"},\n",
        "    {\"context\": \"Look at the horse’s footprints.\", \"question\": \"How does it look like?\", \"label\": \"Transcription of horse's footprint shape\", \"answer\": \"It looks like an arch.\"},\n",
        "    {\"context\": \"Based on the story Growing Tomatoes.\", \"question\": \"Do you like tomatoes? What fruit do you like?\", \"label\": \"Transcription of fruit preference\", \"answer\": \"\"},\n",
        "    {\"context\": \"It is not too difficult to grow tomatoes. I planted them when I was young. First, I planted the tomato seeds. I saw the first sprout and leaves. My tomato plants were growing bigger. Then after about 3 months,\", \"question\": \"What happened?\", \"label\": \"Transcription of tomato growth\", \"answer\": \"I saw tomato flowers.\"},\n",
        "    {\"context\": \"Time passes, I finally saw some tomatoes. They were so small, and they were green. But they grew larger. Then after about 4 months,\", \"question\": \"What happened to them?\", \"label\": \"Transcription of tomato ripening\", \"answer\": \"They turned red.\"},\n",
        "    {\"context\": \"Famous holidays. On Halloween, people light up Jack-o-lanterns. They also dress up in costumes.\", \"question\": \"What do they do when they are dressing up in costume?\", \"label\": \"Transcription of Halloween activity\", \"answer\": \"They go trick or treating.\"},\n",
        "    {\"context\": \"Let’s talk about Christmas. On Christmas day, people exchange presents and cards.\", \"question\": \"What do many families do on Christmas?\", \"label\": \"Transcription of Christmas activity\", \"answer\": \"Many families eat turkey.\"}\n",
        "]\n"
      ],
      "metadata": {
        "id": "ZAvai8YYGEK9"
      },
      "execution_count": null,
      "outputs": []
    },
    {
      "cell_type": "markdown",
      "source": [
        "7"
      ],
      "metadata": {
        "id": "voN0sdXRGYmU"
      }
    },
    {
      "cell_type": "code",
      "source": [
        "questions = [\n",
        "    {\"context\": \"These questions are based on the story Hurricanes. Look at this. This is a hurricane. Look at the houses and the trees. They are all flying away. Hurricanes are really powerful.\", \"question\": \"How do hurricanes form? This picture shows how hurricanes form. First, what happened?\", \"label\": \"Transcription of hurricane formation step 1\", \"answer\": \"First, the sun heats up the sea.\"},\n",
        "    {\"context\": \"OK, now look at this. Clouds start to swirl, small storms begin.\", \"question\": \"Then what happened?\", \"label\": \"Transcription of hurricane formation step 2\", \"answer\": \"It swirls around in a donut shape.\"},\n",
        "    {\"context\": \"So how about you? Do you like donuts?\", \"question\": \"Do you like donuts?\", \"label\": \"Transcription of personal preference\", \"answer\": \"Yes, I like donuts.\"},\n",
        "    {\"context\": \"What flavor of donuts do you like?\", \"question\": \"What flavor of donuts do you like?\", \"label\": \"Transcription of favorite donut flavor\", \"answer\": \"I like chocolate donuts.\"},\n",
        "    {\"context\": \"These questions are based on the story Manatees. Look at these. They are Manatees. Aren’t they cute? But sadly, they are endangered because of landfills.\", \"question\": \"What do landfills cause?\", \"label\": \"Transcription of landfill impact\", \"answer\": \"Landfills cause water to become muddy.\"},\n",
        "    {\"context\": \"Dams and canals also cause problems to Manatees.\", \"question\": \"What does building dams and canals cause?\", \"label\": \"Transcription of dams and canals impact\", \"answer\": \"Building dams and canals causes river courses to change.\"},\n",
        "    {\"context\": \"These questions are based on the story Ducks and Chickens. This is a chicken and this is a duck. They are similar in some ways. But they are also different in some ways. For example, Chickens cannot swim. But ducks can swim well. Look at the duck’s feet. Ducks have webbed feet. And this is chicken’s feet. Chickens don’t have webbed feet.\", \"question\": \"Why can't chickens swim while ducks swim well?\", \"label\": \"Transcription of swimming ability difference\", \"answer\": \"Because chickens don’t have webbed feet.\"},\n",
        "    {\"context\": \"Baby ducks are called ducklings. And baby chickens are called chicks. And they are also different.\", \"question\": \"How are they different?\", \"label\": \"Transcription of ducklings' independence\", \"answer\": \"The chicks are not independent.\"},\n",
        "    {\"context\": \"These questions are based on the story Apple Trees. I love apples. Apple trees look different in each season. This is how an apple tree looks like in spring. It has white flowers and green leaves. The best time passes by, the flowers fall off.\", \"question\": \"But when time passes the flowers fall off, then what happens?\", \"label\": \"Transcription of apple growth step 1\", \"answer\": \"Green apples start to grow.\"},\n",
        "    {\"context\": \"In summer, apple trees look like this. Branches grow bigger and longer. And apples grow larger. In fall, apples are ripe.\", \"question\": \"Then what happens?\", \"label\": \"Transcription of apple growth step 2\", \"answer\": \"Leaves fall off the branches.\"},\n",
        "    {\"context\": \"These questions are based on the story Colors Affect to Our Feeling. Colors affect your feeling. Babies wear white clothes, because white is the color of purity and cleanness. Some people wear red to get attention. Because red is the strong color, it excites us. Businessmen like to wear black suits.\", \"question\": \"Why do businessmen like to wear black suits?\", \"label\": \"Transcription of black suit significance\", \"answer\": \"Because black is the color of power.\"},\n",
        "    {\"context\": \"So this is a blue room. If you sleep in a blue room, then you'll probably sleep well.\", \"question\": \"Why is that?\", \"label\": \"Transcription of blue room effect\", \"answer\": \"Blue makes people feel calm.\"}\n",
        "]\n"
      ],
      "metadata": {
        "id": "LgSv_QjFGZXB"
      },
      "execution_count": null,
      "outputs": []
    }
  ]
}