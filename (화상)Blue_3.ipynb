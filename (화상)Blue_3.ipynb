{
  "nbformat": 4,
  "nbformat_minor": 0,
  "metadata": {
    "colab": {
      "provenance": [],
      "authorship_tag": "ABX9TyOnrbj+Uwd+E3LoKYPk10Ge",
      "include_colab_link": true
    },
    "kernelspec": {
      "name": "python3",
      "display_name": "Python 3"
    },
    "language_info": {
      "name": "python"
    }
  },
  "cells": [
    {
      "cell_type": "markdown",
      "metadata": {
        "id": "view-in-github",
        "colab_type": "text"
      },
      "source": [
        "<a href=\"https://colab.research.google.com/github/englissi/product/blob/main/(%ED%99%94%EC%83%81)Blue_3.ipynb\" target=\"_parent\"><img src=\"https://colab.research.google.com/assets/colab-badge.svg\" alt=\"Open In Colab\"/></a>"
      ]
    },
    {
      "cell_type": "code",
      "execution_count": 1,
      "metadata": {
        "id": "Ap_Lsd-w9TWr"
      },
      "outputs": [],
      "source": [
        "%%capture\n",
        "!pip install gradio speechrecognition pydub gtts\n",
        "\n"
      ]
    },
    {
      "cell_type": "code",
      "source": [
        "import gradio as gr\n",
        "import speech_recognition as sr\n",
        "from pydub import AudioSegment\n",
        "import os\n",
        "from gtts import gTTS\n",
        "\n",
        "def transcribe_audio(audio):\n",
        "    recognizer = sr.Recognizer()\n",
        "    audio = AudioSegment.from_file(audio)\n",
        "    audio.export(\"temp.wav\", format=\"wav\")\n",
        "    with sr.AudioFile(\"temp.wav\") as source:\n",
        "        audio_data = recognizer.record(source)\n",
        "        try:\n",
        "            text = recognizer.recognize_google(audio_data)\n",
        "        except sr.UnknownValueError:\n",
        "            text = \"Sorry, I could not understand the audio.\"\n",
        "        except sr.RequestError:\n",
        "            text = \"Sorry, there was an error with the speech recognition service.\"\n",
        "    os.remove(\"temp.wav\")\n",
        "    return text\n",
        "\n",
        "def speak_text(text):\n",
        "    tts = gTTS(text)\n",
        "    tts.save(\"question.mp3\")\n",
        "    return \"question.mp3\"\n",
        "\n",
        "questions = [\n",
        "    {\"context\": \"These are based on the story Baby Animals. Now, baby dogs are called puppies. They like to run and they like to bark.\", \"question\": \"What else do they like to do?\", \"label\": \"Transcription of puppies' behavior\", \"answer\": \"They like to chew on shoes.\"},\n",
        "    {\"context\": \"Baby horses are called foals. Now they are very shy. If you go near them,\", \"question\": \"What will they do? Will they run away?\", \"label\": \"Transcription of foals' behavior\", \"answer\": \"They will run away.\"},\n",
        "    {\"context\": \"These are based on the story Where is he now?\", \"question\": \"Where is he now?\", \"label\": \"Transcription of current location\", \"answer\": \"He is in the hospital.\"},\n",
        "    {\"context\": \"He will go to the party together and they will even go to school together.\", \"question\": \"What else will they do together?\", \"label\": \"Transcription of future activities\", \"answer\": \"They will play soccer together.\"},\n",
        "    {\"context\": \"Do you like playing soccer?\", \"question\": \"Do you like playing soccer?\", \"label\": \"Transcription of personal preference\", \"answer\": \"No.\"},\n",
        "    {\"context\": \"These are based on the story My Best Friend, Snowflake. Look at the picture. She has a cat Snowflake. And Snowflake will do many things together. They will read books together. And they will drink milk together.\", \"question\": \"What else do they do together?\", \"label\": \"Transcription of shared activities\", \"answer\": \"They will take baths together.\"},\n",
        "    {\"context\": \"Do you like cats?\", \"question\": \"Do you like cats?\", \"label\": \"Transcription of personal preference\", \"answer\": \"Yes, Cats are cute like dogs.\"},\n",
        "    {\"context\": \"These are based on the story Camping is Not Fun. Now look at the boy. He will go camping with his family today. His family is excited but he is not excited.\", \"question\": \"Actually, how is he? How does he look?\", \"label\": \"Transcription of emotions\", \"answer\": \"He looks sad.\"},\n",
        "    {\"context\": \"What else does he want to do?\", \"question\": \"What else does he want to do?\", \"label\": \"Transcription of desires\", \"answer\": \"He wants to stay home.\"},\n",
        "    {\"context\": \"These are based on the story My dad is like Superman. Look at the page 50. This boy's dad is like superman. He helps his family at home. he helps his mom clean the house. He helps sis sister draw a picture.\", \"question\": \"Then how does his father help him?\", \"label\": \"Transcription of father's help\", \"answer\": \"He helps him do his homework.\"},\n",
        "    {\"context\": \"His dad helps people in town. He helps people cross the street. What else does his father help people in town?\", \"question\": \"What else does his father help people in town?\", \"label\": \"Transcription of father's help in town\", \"answer\": \"\"}\n",
        "]\n",
        "\n",
        "\n",
        "current_question = 0\n",
        "responses = []\n",
        "\n",
        "def next_question():\n",
        "    global current_question\n",
        "    if current_question < len(questions):\n",
        "        context = questions[current_question].get(\"context\", \"\")\n",
        "        question = questions[current_question][\"question\"]\n",
        "        full_text = f\"{context} {question}\"\n",
        "        question_audio = speak_text(full_text)\n",
        "        current_question += 1\n",
        "        return gr.update(value=question_audio, visible=True), gr.update(visible=True), questions[current_question-1][\"label\"], gr.update(visible=True), gr.update(visible=False)\n",
        "    else:\n",
        "        final_results = evaluate_responses()\n",
        "        return gr.update(visible=False), gr.update(visible=False), gr.update(visible=False), gr.update(visible=False), gr.update(value=final_results, visible=True)\n",
        "\n",
        "def save_response(audio):\n",
        "    transcription = transcribe_audio(audio)\n",
        "    responses.append(transcription)\n",
        "    return transcription\n",
        "\n",
        "def evaluate_responses():\n",
        "    result = \"<h2>Your Responses:</h2><br>\"\n",
        "    for i, question in enumerate(questions):\n",
        "        user_response = responses[i] if i < len(responses) else \"No response\"\n",
        "        result += f\"<b>Q:</b> {question['question']}<br><b>Your Answer:</b> {user_response}<br><br>\"\n",
        "    return result\n",
        "\n",
        "with gr.Blocks() as demo:\n",
        "    gr.Markdown(\"### Interactive Questions\")\n",
        "\n",
        "    question_audio = gr.Audio(label=\"Question\", visible=False)\n",
        "    audio_input = gr.Audio(type=\"filepath\", label=\"Your answer\", visible=True)\n",
        "    transcription_output = gr.Textbox(label=\"Transcription\", visible=True)\n",
        "    btn_next = gr.Button(\"Next\", visible=True)\n",
        "    final_output = gr.HTML(visible=False)\n",
        "\n",
        "    def load_first_question():\n",
        "        return next_question()\n",
        "\n",
        "    demo.load(load_first_question, outputs=[question_audio, audio_input, transcription_output, btn_next, final_output])\n",
        "\n",
        "    btn_next.click(next_question, outputs=[question_audio, audio_input, transcription_output, btn_next, final_output])\n",
        "    audio_input.change(save_response, inputs=audio_input, outputs=transcription_output)\n",
        "\n",
        "    demo.launch()\n"
      ],
      "metadata": {
        "colab": {
          "base_uri": "https://localhost:8080/",
          "height": 629
        },
        "id": "RzYIbdFt9XTn",
        "outputId": "f8f457cc-7c26-414b-d80c-0d74fc01feea"
      },
      "execution_count": 14,
      "outputs": [
        {
          "output_type": "stream",
          "name": "stdout",
          "text": [
            "Setting queue=True in a Colab notebook requires sharing enabled. Setting `share=True` (you can turn this off by setting `share=False` in `launch()` explicitly).\n",
            "\n",
            "Colab notebook detected. To show errors in colab notebook, set debug=True in launch()\n",
            "Running on public URL: https://9d52b9aa6444722ea2.gradio.live\n",
            "\n",
            "This share link expires in 72 hours. For free permanent hosting and GPU upgrades, run `gradio deploy` from Terminal to deploy to Spaces (https://huggingface.co/spaces)\n"
          ]
        },
        {
          "output_type": "display_data",
          "data": {
            "text/plain": [
              "<IPython.core.display.HTML object>"
            ],
            "text/html": [
              "<div><iframe src=\"https://9d52b9aa6444722ea2.gradio.live\" width=\"100%\" height=\"500\" allow=\"autoplay; camera; microphone; clipboard-read; clipboard-write;\" frameborder=\"0\" allowfullscreen></iframe></div>"
            ]
          },
          "metadata": {}
        }
      ]
    }
  ]
}