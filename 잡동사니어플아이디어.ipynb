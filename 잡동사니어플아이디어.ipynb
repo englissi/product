{
  "nbformat": 4,
  "nbformat_minor": 0,
  "metadata": {
    "colab": {
      "provenance": [],
      "authorship_tag": "ABX9TyOI+MExff7hNfRVkR8oZf2E",
      "include_colab_link": true
    },
    "kernelspec": {
      "name": "python3",
      "display_name": "Python 3"
    },
    "language_info": {
      "name": "python"
    }
  },
  "cells": [
    {
      "cell_type": "markdown",
      "metadata": {
        "id": "view-in-github",
        "colab_type": "text"
      },
      "source": [
        "<a href=\"https://colab.research.google.com/github/englissi/product/blob/main/%EC%9E%A1%EB%8F%99%EC%82%AC%EB%8B%88%EC%96%B4%ED%94%8C%EC%95%84%EC%9D%B4%EB%94%94%EC%96%B4.ipynb\" target=\"_parent\"><img src=\"https://colab.research.google.com/assets/colab-badge.svg\" alt=\"Open In Colab\"/></a>"
      ]
    },
    {
      "cell_type": "code",
      "source": [],
      "metadata": {
        "id": "Ad2dPWpVstnA"
      },
      "execution_count": null,
      "outputs": []
    },
    {
      "cell_type": "markdown",
      "source": [
        "ㅇ음성복제"
      ],
      "metadata": {
        "id": "BOar58wAstHU"
      }
    },
    {
      "cell_type": "code",
      "source": [
        "!pip install TTS torch"
      ],
      "metadata": {
        "id": "jdJ-Fba-spmp"
      },
      "execution_count": null,
      "outputs": []
    },
    {
      "cell_type": "markdown",
      "source": [
        "단어장"
      ],
      "metadata": {
        "id": "qqQQs-zpAZW0"
      }
    },
    {
      "cell_type": "code",
      "execution_count": 1,
      "metadata": {
        "id": "UgXFwP8hptr3"
      },
      "outputs": [],
      "source": [
        "%%capture\n",
        "!pip install transformers gradio\n"
      ]
    },
    {
      "cell_type": "code",
      "source": [
        "import gradio as gr\n",
        "import random\n",
        "import json\n",
        "\n",
        "# 단어 데이터 로드\n",
        "def load_data():\n",
        "    with open('word_data.json', 'r', encoding='utf-8') as file:\n",
        "        data = json.load(file)\n",
        "    return data\n",
        "\n",
        "words_data = load_data()\n",
        "\n",
        "# 게임 로직\n",
        "def word_quiz():\n",
        "    word, info = random.choice(list(words_data.items()))\n",
        "    return word, info['meaning'], info['example']\n",
        "\n",
        "def guess_word(guess, correct_word):\n",
        "    if guess.lower() == correct_word.lower():\n",
        "        return f\"Correct! The word was: {correct_word}\"\n",
        "    else:\n",
        "        return f\"Wrong! The correct word was: {correct_word}\"\n",
        "\n",
        "# Gradio 인터페이스\n",
        "def quiz_interface():\n",
        "    word, meaning, example = word_quiz()\n",
        "    iface = gr.Interface(\n",
        "        fn=lambda guess: guess_word(guess, word),\n",
        "        inputs=[gr.inputs.Textbox(label=\"Your Guess\")],\n",
        "        outputs=[gr.outputs.Textbox(label=\"Result\")],\n",
        "        title=\"English Word Quiz\",\n",
        "        description=f\"Guess the word! Meaning: {meaning}, Example: '{example}'\"\n",
        "    )\n",
        "    return iface\n",
        "\n",
        "# 인터페이스 실행\n",
        "app = quiz_interface()\n",
        "app.launch()\n"
      ],
      "metadata": {
        "colab": {
          "base_uri": "https://localhost:8080/",
          "height": 349
        },
        "id": "gZptoAmFpyKQ",
        "outputId": "9db1e1fe-18d9-4382-8893-2c21cd48f250"
      },
      "execution_count": 2,
      "outputs": [
        {
          "output_type": "error",
          "ename": "FileNotFoundError",
          "evalue": "[Errno 2] No such file or directory: 'word_data.json'",
          "traceback": [
            "\u001b[0;31m---------------------------------------------------------------------------\u001b[0m",
            "\u001b[0;31mFileNotFoundError\u001b[0m                         Traceback (most recent call last)",
            "\u001b[0;32m<ipython-input-2-3c86b2b29982>\u001b[0m in \u001b[0;36m<cell line: 11>\u001b[0;34m()\u001b[0m\n\u001b[1;32m      9\u001b[0m     \u001b[0;32mreturn\u001b[0m \u001b[0mdata\u001b[0m\u001b[0;34m\u001b[0m\u001b[0;34m\u001b[0m\u001b[0m\n\u001b[1;32m     10\u001b[0m \u001b[0;34m\u001b[0m\u001b[0m\n\u001b[0;32m---> 11\u001b[0;31m \u001b[0mwords_data\u001b[0m \u001b[0;34m=\u001b[0m \u001b[0mload_data\u001b[0m\u001b[0;34m(\u001b[0m\u001b[0;34m)\u001b[0m\u001b[0;34m\u001b[0m\u001b[0;34m\u001b[0m\u001b[0m\n\u001b[0m\u001b[1;32m     12\u001b[0m \u001b[0;34m\u001b[0m\u001b[0m\n\u001b[1;32m     13\u001b[0m \u001b[0;31m# 게임 로직\u001b[0m\u001b[0;34m\u001b[0m\u001b[0;34m\u001b[0m\u001b[0m\n",
            "\u001b[0;32m<ipython-input-2-3c86b2b29982>\u001b[0m in \u001b[0;36mload_data\u001b[0;34m()\u001b[0m\n\u001b[1;32m      5\u001b[0m \u001b[0;31m# 단어 데이터 로드\u001b[0m\u001b[0;34m\u001b[0m\u001b[0;34m\u001b[0m\u001b[0m\n\u001b[1;32m      6\u001b[0m \u001b[0;32mdef\u001b[0m \u001b[0mload_data\u001b[0m\u001b[0;34m(\u001b[0m\u001b[0;34m)\u001b[0m\u001b[0;34m:\u001b[0m\u001b[0;34m\u001b[0m\u001b[0;34m\u001b[0m\u001b[0m\n\u001b[0;32m----> 7\u001b[0;31m     \u001b[0;32mwith\u001b[0m \u001b[0mopen\u001b[0m\u001b[0;34m(\u001b[0m\u001b[0;34m'word_data.json'\u001b[0m\u001b[0;34m,\u001b[0m \u001b[0;34m'r'\u001b[0m\u001b[0;34m,\u001b[0m \u001b[0mencoding\u001b[0m\u001b[0;34m=\u001b[0m\u001b[0;34m'utf-8'\u001b[0m\u001b[0;34m)\u001b[0m \u001b[0;32mas\u001b[0m \u001b[0mfile\u001b[0m\u001b[0;34m:\u001b[0m\u001b[0;34m\u001b[0m\u001b[0;34m\u001b[0m\u001b[0m\n\u001b[0m\u001b[1;32m      8\u001b[0m         \u001b[0mdata\u001b[0m \u001b[0;34m=\u001b[0m \u001b[0mjson\u001b[0m\u001b[0;34m.\u001b[0m\u001b[0mload\u001b[0m\u001b[0;34m(\u001b[0m\u001b[0mfile\u001b[0m\u001b[0;34m)\u001b[0m\u001b[0;34m\u001b[0m\u001b[0;34m\u001b[0m\u001b[0m\n\u001b[1;32m      9\u001b[0m     \u001b[0;32mreturn\u001b[0m \u001b[0mdata\u001b[0m\u001b[0;34m\u001b[0m\u001b[0;34m\u001b[0m\u001b[0m\n",
            "\u001b[0;31mFileNotFoundError\u001b[0m: [Errno 2] No such file or directory: 'word_data.json'"
          ]
        }
      ]
    }
  ]
}