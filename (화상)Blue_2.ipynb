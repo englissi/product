{
  "nbformat": 4,
  "nbformat_minor": 0,
  "metadata": {
    "colab": {
      "provenance": [],
      "authorship_tag": "ABX9TyMKIYBIiTszT/UjObiO/dLD",
      "include_colab_link": true
    },
    "kernelspec": {
      "name": "python3",
      "display_name": "Python 3"
    },
    "language_info": {
      "name": "python"
    }
  },
  "cells": [
    {
      "cell_type": "markdown",
      "metadata": {
        "id": "view-in-github",
        "colab_type": "text"
      },
      "source": [
        "<a href=\"https://colab.research.google.com/github/englissi/product/blob/main/(%ED%99%94%EC%83%81)Blue_2.ipynb\" target=\"_parent\"><img src=\"https://colab.research.google.com/assets/colab-badge.svg\" alt=\"Open In Colab\"/></a>"
      ]
    },
    {
      "cell_type": "code",
      "execution_count": 1,
      "metadata": {
        "id": "Ap_Lsd-w9TWr"
      },
      "outputs": [],
      "source": [
        "%%capture\n",
        "!pip install gradio speechrecognition pydub gtts\n",
        "\n"
      ]
    },
    {
      "cell_type": "code",
      "source": [
        "import gradio as gr\n",
        "import speech_recognition as sr\n",
        "from pydub import AudioSegment\n",
        "import os\n",
        "from gtts import gTTS\n",
        "\n",
        "def transcribe_audio(audio):\n",
        "    recognizer = sr.Recognizer()\n",
        "    audio = AudioSegment.from_file(audio)\n",
        "    audio.export(\"temp.wav\", format=\"wav\")\n",
        "    with sr.AudioFile(\"temp.wav\") as source:\n",
        "        audio_data = recognizer.record(source)\n",
        "        try:\n",
        "            text = recognizer.recognize_google(audio_data)\n",
        "        except sr.UnknownValueError:\n",
        "            text = \"Sorry, I could not understand the audio.\"\n",
        "        except sr.RequestError:\n",
        "            text = \"Sorry, there was an error with the speech recognition service.\"\n",
        "    os.remove(\"temp.wav\")\n",
        "    return text\n",
        "\n",
        "def speak_text(text):\n",
        "    tts = gTTS(text)\n",
        "    tts.save(\"question.mp3\")\n",
        "    return \"question.mp3\"\n",
        "\n",
        "questions = [\n",
        "    {\"context\": \"Based on the story Dinosaurs. I like dinosaurs. Triceratops are my favorite. Triceratops have three horns and they walk on 4 legs.\", \"question\": \"What do triceratops eat when they get hungry?\", \"label\": \"Transcription of triceratops' diet\", \"answer\": \"When Triceratops get hungry, they eat plants.\"},\n",
        "    {\"context\": \"Tyrannosaurus are big. They grow up to 50 feet.\", \"question\": \"What do tyrannosaurus rex eat when they get hungry?\", \"label\": \"Transcription of tyrannosaurus' diet\", \"answer\": \"When they get hungry, they eat other dinosaurs.\"},\n",
        "    {\"context\": \"How about you?\", \"question\": \"Do you like dinosaurs?\", \"label\": \"Transcription of personal preference\", \"answer\": \"No, I don’t.\"},\n",
        "    {\"context\": \"Based on the story enjoy your dog more. I have a dog. It keeps taking baths. The keeper said I should not put it in the bathtub.\", \"question\": \"Can you give me some tips?\", \"label\": \"Transcription of tips for dog bath\", \"answer\": \"Put his favorite toys in the bathtub.\"},\n",
        "    {\"context\": \"My dog often fights with other dogs.\", \"question\": \"What should I do when he fights with other dogs? Should I spray them with water or not?\", \"label\": \"Transcription of action to stop dog fights\", \"answer\": \"I should spray them with water.\"},\n",
        "    {\"context\": \"How about you?\", \"question\": \"Do you have a dog? Do you want to have a dog?\", \"label\": \"Transcription of personal dog ownership\", \"answer\": \"I hope that someday you get a dog.\"},\n",
        "    {\"context\": \"Based on the story Zoo was so much fun. Look at the pictures.\", \"question\": \"Where are the gorillas?\", \"label\": \"Transcription of gorillas' location\", \"answer\": \"They are on the trees.\"},\n",
        "    {\"context\": \"Look at the tigers.\", \"question\": \"Where are they? And what are they doing? Are they sleeping in the sun or under the sun?\", \"label\": \"Transcription of tigers' location and activity\", \"answer\": \"They are sleeping under the sun.\"},\n",
        "    {\"context\": \"Look at the hippos.\", \"question\": \"Where are they and what are they doing?\", \"label\": \"Transcription of hippos' location and activity\", \"answer\": \"They are cooling off in the water.\"},\n",
        "    {\"context\": \"Great job.\", \"question\": \"Do you like to go to the zoo?\", \"label\": \"Transcription of zoo preference\", \"answer\": \"Yes\"},\n",
        "    {\"context\": \"Who do you go to the zoo with?\", \"question\": \"Do you go to the zoo with your family, classmates or friends?\", \"label\": \"Transcription of zoo companions\", \"answer\": \"I go to the zoo with my family.\"},\n",
        "    {\"context\": \"Which of these animals do you like the most? Do you like the gorillas? Tigers? Lions? Or the hippos?\", \"question\": \"Which animal do you like the most?\", \"label\": \"Transcription of favorite zoo animal\", \"answer\": \"I like lions.\"},\n",
        "    {\"context\": \"Based on the story Cats and dogs. Cats and dogs are different in many ways. For example, dogs play during the day.\", \"question\": \"How about cats? What do they do during the day?\", \"label\": \"Transcription of cats' daytime activity\", \"answer\": \"They are sleeping during the day.\"},\n",
        "    {\"context\": \"When do cats play?\", \"question\": \"Dogs wag their tails when they are happy. What about cats? When do cats move their tails?\", \"label\": \"Transcription of cats' tail movement\", \"answer\": \"Cats move their tails when they are angry.\"}\n",
        "]\n",
        "\n",
        "current_question = 0\n",
        "responses = []\n",
        "\n",
        "def next_question():\n",
        "    global current_question\n",
        "    if current_question < len(questions):\n",
        "        context = questions[current_question].get(\"context\", \"\")\n",
        "        question = questions[current_question][\"question\"]\n",
        "        full_text = f\"{context} {question}\"\n",
        "        question_audio = speak_text(full_text)\n",
        "        current_question += 1\n",
        "        return gr.update(value=question_audio, visible=True), gr.update(visible=True), questions[current_question-1][\"label\"], gr.update(visible=True), gr.update(visible=False)\n",
        "    else:\n",
        "        final_results = evaluate_responses()\n",
        "        return gr.update(visible=False), gr.update(visible=False), gr.update(visible=False), gr.update(visible=False), gr.update(value=final_results, visible=True)\n",
        "\n",
        "def save_response(audio):\n",
        "    transcription = transcribe_audio(audio)\n",
        "    responses.append(transcription)\n",
        "    return transcription\n",
        "\n",
        "def evaluate_responses():\n",
        "    result = \"<h2>Your Responses:</h2><br>\"\n",
        "    for i, question in enumerate(questions):\n",
        "        user_response = responses[i] if i < len(responses) else \"No response\"\n",
        "        result += f\"<b>Q:</b> {question['question']}<br><b>Your Answer:</b> {user_response}<br><br>\"\n",
        "    return result\n",
        "\n",
        "with gr.Blocks() as demo:\n",
        "    gr.Markdown(\"### Interactive Questions\")\n",
        "\n",
        "    question_audio = gr.Audio(label=\"Question\", visible=False)\n",
        "    audio_input = gr.Audio(type=\"filepath\", label=\"Your answer\", visible=True)\n",
        "    transcription_output = gr.Textbox(label=\"Transcription\", visible=True)\n",
        "    btn_next = gr.Button(\"Next\", visible=True)\n",
        "    final_output = gr.HTML(visible=False)\n",
        "\n",
        "    def load_first_question():\n",
        "        return next_question()\n",
        "\n",
        "    demo.load(load_first_question, outputs=[question_audio, audio_input, transcription_output, btn_next, final_output])\n",
        "\n",
        "    btn_next.click(next_question, outputs=[question_audio, audio_input, transcription_output, btn_next, final_output])\n",
        "    audio_input.change(save_response, inputs=audio_input, outputs=transcription_output)\n",
        "\n",
        "    demo.launch()"
      ],
      "metadata": {
        "colab": {
          "base_uri": "https://localhost:8080/",
          "height": 629
        },
        "id": "RzYIbdFt9XTn",
        "outputId": "f8f457cc-7c26-414b-d80c-0d74fc01feea"
      },
      "execution_count": 14,
      "outputs": [
        {
          "output_type": "stream",
          "name": "stdout",
          "text": [
            "Setting queue=True in a Colab notebook requires sharing enabled. Setting `share=True` (you can turn this off by setting `share=False` in `launch()` explicitly).\n",
            "\n",
            "Colab notebook detected. To show errors in colab notebook, set debug=True in launch()\n",
            "Running on public URL: https://9d52b9aa6444722ea2.gradio.live\n",
            "\n",
            "This share link expires in 72 hours. For free permanent hosting and GPU upgrades, run `gradio deploy` from Terminal to deploy to Spaces (https://huggingface.co/spaces)\n"
          ]
        },
        {
          "output_type": "display_data",
          "data": {
            "text/plain": [
              "<IPython.core.display.HTML object>"
            ],
            "text/html": [
              "<div><iframe src=\"https://9d52b9aa6444722ea2.gradio.live\" width=\"100%\" height=\"500\" allow=\"autoplay; camera; microphone; clipboard-read; clipboard-write;\" frameborder=\"0\" allowfullscreen></iframe></div>"
            ]
          },
          "metadata": {}
        }
      ]
    }
  ]
}