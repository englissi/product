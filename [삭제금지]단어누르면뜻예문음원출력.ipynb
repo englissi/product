{
  "nbformat": 4,
  "nbformat_minor": 0,
  "metadata": {
    "colab": {
      "provenance": [],
      "authorship_tag": "ABX9TyObg83u4CMxbEzMmwdB3aVt",
      "include_colab_link": true
    },
    "kernelspec": {
      "name": "python3",
      "display_name": "Python 3"
    },
    "language_info": {
      "name": "python"
    }
  },
  "cells": [
    {
      "cell_type": "markdown",
      "metadata": {
        "id": "view-in-github",
        "colab_type": "text"
      },
      "source": [
        "<a href=\"https://colab.research.google.com/github/englissi/product/blob/main/%5B%EC%82%AD%EC%A0%9C%EA%B8%88%EC%A7%80%5D%EB%8B%A8%EC%96%B4%EB%88%84%EB%A5%B4%EB%A9%B4%EB%9C%BB%EC%98%88%EB%AC%B8%EC%9D%8C%EC%9B%90%EC%B6%9C%EB%A0%A5.ipynb\" target=\"_parent\"><img src=\"https://colab.research.google.com/assets/colab-badge.svg\" alt=\"Open In Colab\"/></a>"
      ]
    },
    {
      "cell_type": "code",
      "execution_count": 21,
      "metadata": {
        "id": "cx-OrZHaZYeC"
      },
      "outputs": [],
      "source": [
        "\n",
        "%%capture\n",
        "!pip install gradio gtts\n",
        "\n",
        "\n"
      ]
    },
    {
      "cell_type": "code",
      "source": [
        "import gradio as gr\n",
        "from gtts import gTTS\n",
        "from io import BytesIO\n",
        "\n",
        "# 데이터: 영어 단어, 뜻, 예문\n",
        "vocab_data = {\n",
        "    \"Girl\": {\"meaning\": \"소녀\", \"example\": \"She is a smart girl.\"},\n",
        "    \"Understand\": {\"meaning\": \"이해하다\", \"example\": \"I can't understand what you're saying.\"},\n",
        "    \"Beauty\": {\"meaning\": \"아름다움\", \"example\": \"The beauty of nature is breathtaking.\"},\n",
        "    # 필요한 단어들을 더 추가할 수 있습니다.\n",
        "}\n",
        "\n",
        "# 단어 선택 시 동작하는 함수\n",
        "def show_vocab(word):\n",
        "    # 뜻과 예문 가져오기\n",
        "    meaning = vocab_data[word][\"meaning\"]\n",
        "    example = vocab_data[word][\"example\"]\n",
        "\n",
        "    # 단어 발음 생성 (미국 영어)\n",
        "    tts_word = gTTS(text=word, lang='en', tld='com')\n",
        "    word_audio = f\"{word}.mp3\"\n",
        "    tts_word.save(word_audio)\n",
        "\n",
        "    # 예문 발음 생성\n",
        "    tts_example = gTTS(text=example, lang='en', tld='com')\n",
        "    example_audio = f\"{word}_example.mp3\"\n",
        "    tts_example.save(example_audio)\n",
        "\n",
        "    # 뜻, 예문, 단어 발음 오디오, 예문 발음 오디오 반환\n",
        "    return meaning, example, word_audio, example_audio\n",
        "\n",
        "# 단어 리스트\n",
        "words = list(vocab_data.keys())\n",
        "\n",
        "# Gradio 인터페이스 생성\n",
        "with gr.Blocks() as demo:\n",
        "    gr.Markdown(\"## 단어를 선택하면 발음이 자동으로 재생되고, 뜻과 예문이 표시됩니다. 예문을 재생해 들을 수 있습니다.\")\n",
        "\n",
        "    # 단어 선택 Dropdown\n",
        "    word_input = gr.Dropdown(choices=words, label=\"단어 선택\")\n",
        "\n",
        "    # 뜻과 예문을 보여줄 Textbox\n",
        "    meaning_output = gr.Textbox(label=\"뜻\")\n",
        "    example_output = gr.Textbox(label=\"예문\")\n",
        "\n",
        "    # 단어 발음과 예문 발음을 위한 Audio 컴포넌트\n",
        "    word_audio_output = gr.Audio(label=\"단어 발음\", type=\"filepath\", autoplay=True)\n",
        "    example_audio_output = gr.Audio(label=\"예문 발음\", type=\"filepath\")\n",
        "\n",
        "    # 단어 선택 시 뜻, 예문, 발음 출력 업데이트\n",
        "    word_input.change(fn=show_vocab,\n",
        "                      inputs=word_input,\n",
        "                      outputs=[meaning_output, example_output, word_audio_output, example_audio_output])\n",
        "\n",
        "# 앱 실행\n",
        "demo.launch()\n"
      ],
      "metadata": {
        "colab": {
          "base_uri": "https://localhost:8080/",
          "height": 631
        },
        "id": "52BTfXq1bzim",
        "outputId": "77d7c012-6344-42ba-96bf-bc5c6d28dabc"
      },
      "execution_count": 29,
      "outputs": [
        {
          "output_type": "stream",
          "name": "stdout",
          "text": [
            "Running Gradio in a Colab notebook requires sharing enabled. Automatically setting `share=True` (you can turn this off by setting `share=False` in `launch()` explicitly).\n",
            "\n",
            "Colab notebook detected. To show errors in colab notebook, set debug=True in launch()\n",
            "* Running on public URL: https://db77e976381f5d4716.gradio.live\n",
            "\n",
            "This share link expires in 72 hours. For free permanent hosting and GPU upgrades, run `gradio deploy` from the terminal in the working directory to deploy to Hugging Face Spaces (https://huggingface.co/spaces)\n"
          ]
        },
        {
          "output_type": "display_data",
          "data": {
            "text/plain": [
              "<IPython.core.display.HTML object>"
            ],
            "text/html": [
              "<div><iframe src=\"https://db77e976381f5d4716.gradio.live\" width=\"100%\" height=\"500\" allow=\"autoplay; camera; microphone; clipboard-read; clipboard-write;\" frameborder=\"0\" allowfullscreen></iframe></div>"
            ]
          },
          "metadata": {}
        },
        {
          "output_type": "execute_result",
          "data": {
            "text/plain": []
          },
          "metadata": {},
          "execution_count": 29
        }
      ]
    }
  ]
}